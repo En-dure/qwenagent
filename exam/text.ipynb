{
 "cells": [
  {
   "cell_type": "code",
   "id": "initial_id",
   "metadata": {
    "collapsed": true,
    "ExecuteTime": {
     "end_time": "2024-11-21T02:22:49.049431Z",
     "start_time": "2024-11-21T02:22:49.038430Z"
    }
   },
   "source": [
    "# 定义 Message 类\n",
    "class Message:\n",
    "    def __init__(self, content):\n",
    "        self.content = content\n",
    "\n",
    "    def __repr__(self):\n",
    "        return f\"Message(content={self.content})\"\n",
    "\n",
    "    def model_dump(self):\n",
    "        return {\"content\": self.content}\n",
    "\n",
    "# 输入数据：一个混合字典和 Message 对象的列表\n",
    "rsp = [\n",
    "    {\"content\": \"Hello, World!\"},\n",
    "    Message(content=\"This is a message object\"),\n",
    "]\n",
    "msg = Message(\"ni \")\n",
    "print(msg)"
   ],
   "outputs": [
    {
     "name": "stdout",
     "output_type": "stream",
     "text": [
      "Message(content=ni )\n"
     ]
    }
   ],
   "execution_count": 7
  },
  {
   "metadata": {
    "ExecuteTime": {
     "end_time": "2024-11-21T06:17:55.522740Z",
     "start_time": "2024-11-21T06:17:55.515760Z"
    }
   },
   "cell_type": "code",
   "source": [
    "def my_generator():\n",
    "    a = [1, 2, 3, 4]\n",
    "    for x in a:\n",
    "        yield x\n",
    "\n",
    "# 使用生成器\n",
    "gen = my_generator()\n",
    "print(gen)\n",
    "for x in gen:\n",
    "    print(x)\n"
   ],
   "id": "a779b9800acd9cf4",
   "outputs": [
    {
     "name": "stdout",
     "output_type": "stream",
     "text": [
      "<generator object my_generator at 0x000001E2244738B0>\n",
      "1\n",
      "2\n",
      "3\n",
      "4\n"
     ]
    }
   ],
   "execution_count": 10
  },
  {
   "metadata": {
    "ExecuteTime": {
     "end_time": "2024-11-21T06:26:11.669545Z",
     "start_time": "2024-11-21T06:26:11.655555Z"
    }
   },
   "cell_type": "code",
   "source": [
    "k = ''\n",
    "if not k:\n",
    "    print(1)"
   ],
   "id": "e61ee6fe054451ad",
   "outputs": [
    {
     "name": "stdout",
     "output_type": "stream",
     "text": [
      "1\n"
     ]
    }
   ],
   "execution_count": 11
  },
  {
   "metadata": {
    "ExecuteTime": {
     "end_time": "2024-11-22T07:53:45.971547Z",
     "start_time": "2024-11-22T07:53:44.227039Z"
    }
   },
   "cell_type": "code",
   "source": [
    "import time\n",
    "import random\n",
    "from typing import List, Callable\n",
    "from concurrent.futures import ThreadPoolExecutor, as_completed\n",
    "\n",
    "# parallel_exec 函数定义\n",
    "def parallel_exec(\n",
    "    fn: Callable,\n",
    "    list_of_kwargs: List[dict],\n",
    "    max_workers: int = None,\n",
    "    jitter: float = 0.0,\n",
    ") -> list:\n",
    "    results = []\n",
    "    with ThreadPoolExecutor(max_workers=max_workers) as executor:\n",
    "        futures = []\n",
    "        for kwargs in list_of_kwargs:\n",
    "            futures.append(executor.submit(fn, **kwargs))\n",
    "            if jitter > 0.0:\n",
    "                time.sleep(jitter * random.random())\n",
    "        for future in as_completed(futures):\n",
    "            results.append(future.result())\n",
    "    return results\n",
    "\n",
    "# 示例函数：计算平方\n",
    "def calculate_square(number: int) -> int:\n",
    "    start_time = time.time()\n",
    "    print(f\"Task {number} started at {start_time:.2f}\")\n",
    "    time.sleep(random.uniform(0.5, 1.0))  # 模拟计算延迟\n",
    "    end_time = time.time()\n",
    "    print(f\"Task {number} finished at {end_time:.2f}\")\n",
    "    return number * number\n",
    "\n",
    "# 主程序\n",
    "if __name__ == \"__main__\":\n",
    "    # 准备任务参数列表\n",
    "    tasks = [{\"number\": i} for i in range(1, 6)]  # 计算 1 到 5 的平方\n",
    "\n",
    "    # 并行执行任务\n",
    "    print(\"开始并行计算:\")\n",
    "    results = parallel_exec(calculate_square, tasks, max_workers=3)\n",
    "\n",
    "    print(\"\\n计算结果:\")\n",
    "    for task, result in zip(tasks, results):\n",
    "        print(f\"{task['number']}^2 = {result}\")\n"
   ],
   "id": "893b435f9021cf67",
   "outputs": [
    {
     "name": "stdout",
     "output_type": "stream",
     "text": [
      "开始并行计算:\n",
      "Task 1 started at 1732262024.24\n",
      "Task 2 started at 1732262024.24\n",
      "Task 3 started at 1732262024.24\n",
      "Task 1 finished at 1732262024.96\n",
      "Task 4 started at 1732262024.97\n",
      "Task 3 finished at 1732262024.98\n",
      "Task 5 started at 1732262024.98\n",
      "Task 2 finished at 1732262025.15\n",
      "Task 5 finished at 1732262025.56\n",
      "Task 4 finished at 1732262025.96\n",
      "\n",
      "计算结果:\n",
      "1^2 = 1\n",
      "2^2 = 9\n",
      "3^2 = 4\n",
      "4^2 = 25\n",
      "5^2 = 16\n"
     ]
    }
   ],
   "execution_count": 13
  },
  {
   "metadata": {
    "ExecuteTime": {
     "end_time": "2024-11-22T08:59:38.874148Z",
     "start_time": "2024-11-22T08:59:38.863147Z"
    }
   },
   "cell_type": "code",
   "source": [
    "# 假设ASSISTANT是一个常量，表示消息类型\n",
    "ASSISTANT = \"assistant\"\n",
    "\n",
    "# 假设default_plan是一个包含默认计划的字符串\n",
    "default_plan = \"\"\"\n",
    "1. 进行背景调查\n",
    "2. 分析需求\n",
    "3. 编写实施计划\n",
    "4. 执行实施计划\n",
    "\"\"\"\n",
    "a = 1\n",
    "# 定义一个生成器函数，用于生成消息\n",
    "\n",
    "    \n",
    "\n",
    "# 假设Message是一个简单的类，封装消息类型和内容\n",
    "class Message:\n",
    "    def __init__(self, sender, content):\n",
    "        self.sender = sender\n",
    "        self.content = content\n",
    "\n",
    "    def __repr__(self):\n",
    "        return f\"Message(sender={self.sender}, content={self.content})\"\n",
    "\n",
    "def generate_response():\n",
    "    global a\n",
    "    # 创建一个Message实例，内容为默认计划\n",
    "    response = [Message(ASSISTANT, f'>\\n> Use Default plans: \\n{default_plan}')]\n",
    "    \n",
    "    # 使用yield返回响应，返回后函数暂停，等待下一次调用\n",
    "    yield response  # 暂停执行并返回response\n",
    "    a += 1  # 这里是函数继续执行的部分\n",
    "    yield f\"Value of a: {a}\"  # 返回a的值作为第二次调用的输出\n",
    "\n",
    "# 调用生成器\n",
    "response_gen = generate_response()\n",
    "next(response_gen)\n",
    "# 获取并打印第一次响应\n",
    "# response = next(response_gen)\n",
    "# for msg in response:\n",
    "#     print(msg)\n",
    "# print(a)\n",
    "# # 第二次调用生成器\n",
    "# try:\n",
    "#     second_response = next(response_gen)  # 第二次调用\n",
    "#     print(second_response)  # 打印a的值\n",
    "# except StopIteration:\n",
    "#     print(\"Generator is finished.\")\n",
    "\n"
   ],
   "id": "8a6a0d4eaf9a6143",
   "outputs": [
    {
     "data": {
      "text/plain": [
       "[Message(sender=assistant, content=>\n",
       " > Use Default plans: \n",
       " \n",
       " 1. 进行背景调查\n",
       " 2. 分析需求\n",
       " 3. 编写实施计划\n",
       " 4. 执行实施计划\n",
       " )]"
      ]
     },
     "execution_count": 33,
     "metadata": {},
     "output_type": "execute_result"
    }
   ],
   "execution_count": 33
  }
 ],
 "metadata": {
  "kernelspec": {
   "display_name": "Python 3",
   "language": "python",
   "name": "python3"
  },
  "language_info": {
   "codemirror_mode": {
    "name": "ipython",
    "version": 2
   },
   "file_extension": ".py",
   "mimetype": "text/x-python",
   "name": "python",
   "nbconvert_exporter": "python",
   "pygments_lexer": "ipython2",
   "version": "2.7.6"
  }
 },
 "nbformat": 4,
 "nbformat_minor": 5
}
