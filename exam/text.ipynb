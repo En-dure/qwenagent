{
 "cells": [
  {
   "cell_type": "code",
   "id": "initial_id",
   "metadata": {
    "collapsed": true,
    "ExecuteTime": {
     "end_time": "2024-11-21T02:22:49.049431Z",
     "start_time": "2024-11-21T02:22:49.038430Z"
    }
   },
   "source": [
    "# 定义 Message 类\n",
    "class Message:\n",
    "    def __init__(self, content):\n",
    "        self.content = content\n",
    "\n",
    "    def __repr__(self):\n",
    "        return f\"Message(content={self.content})\"\n",
    "\n",
    "    def model_dump(self):\n",
    "        return {\"content\": self.content}\n",
    "\n",
    "# 输入数据：一个混合字典和 Message 对象的列表\n",
    "rsp = [\n",
    "    {\"content\": \"Hello, World!\"},\n",
    "    Message(content=\"This is a message object\"),\n",
    "]\n",
    "msg = Message(\"ni \")\n",
    "print(msg)"
   ],
   "outputs": [
    {
     "name": "stdout",
     "output_type": "stream",
     "text": [
      "Message(content=ni )\n"
     ]
    }
   ],
   "execution_count": 7
  },
  {
   "metadata": {
    "ExecuteTime": {
     "end_time": "2024-11-21T06:17:55.522740Z",
     "start_time": "2024-11-21T06:17:55.515760Z"
    }
   },
   "cell_type": "code",
   "source": [
    "def my_generator():\n",
    "    a = [1, 2, 3, 4]\n",
    "    for x in a:\n",
    "        yield x\n",
    "\n",
    "# 使用生成器\n",
    "gen = my_generator()\n",
    "print(gen)\n",
    "for x in gen:\n",
    "    print(x)\n"
   ],
   "id": "a779b9800acd9cf4",
   "outputs": [
    {
     "name": "stdout",
     "output_type": "stream",
     "text": [
      "<generator object my_generator at 0x000001E2244738B0>\n",
      "1\n",
      "2\n",
      "3\n",
      "4\n"
     ]
    }
   ],
   "execution_count": 10
  },
  {
   "metadata": {
    "ExecuteTime": {
     "end_time": "2024-11-21T06:26:11.669545Z",
     "start_time": "2024-11-21T06:26:11.655555Z"
    }
   },
   "cell_type": "code",
   "source": [
    "k = ''\n",
    "if not k:\n",
    "    print(1)"
   ],
   "id": "e61ee6fe054451ad",
   "outputs": [
    {
     "name": "stdout",
     "output_type": "stream",
     "text": [
      "1\n"
     ]
    }
   ],
   "execution_count": 11
  }
 ],
 "metadata": {
  "kernelspec": {
   "display_name": "Python 3",
   "language": "python",
   "name": "python3"
  },
  "language_info": {
   "codemirror_mode": {
    "name": "ipython",
    "version": 2
   },
   "file_extension": ".py",
   "mimetype": "text/x-python",
   "name": "python",
   "nbconvert_exporter": "python",
   "pygments_lexer": "ipython2",
   "version": "2.7.6"
  }
 },
 "nbformat": 4,
 "nbformat_minor": 5
}
